{
  "nbformat": 4,
  "nbformat_minor": 0,
  "metadata": {
    "colab": {
      "name": "DayAhead.ipynb",
      "provenance": [],
      "collapsed_sections": [
        "Lu3XVxCW0lh9",
        "LOo0-AaNWxF_",
        "Fq8nmCHsZLOF"
      ]
    },
    "kernelspec": {
      "name": "python3",
      "display_name": "Python 3"
    },
    "language_info": {
      "name": "python"
    }
  },
  "cells": [
    {
      "cell_type": "markdown",
      "source": [
        "In this notebook, based on the insights from the previous notebook i.e. RealPrice+FullInfo, we try to predict the Day Ahead prices. Day Ahead prices are essentially the price of a future contract maturing the next day. While day ahead prices are quoted ~ 70% times more than the real time prices, the real time prices have the ability to spike real bad."
      ],
      "metadata": {
        "id": "sTPJ6ASRLjUs"
      }
    },
    {
      "cell_type": "markdown",
      "source": [
        "## Data Processing"
      ],
      "metadata": {
        "id": "A1wE1AZxGxmA"
      }
    },
    {
      "cell_type": "code",
      "execution_count": null,
      "metadata": {
        "id": "DTpXY0OiwrEB"
      },
      "outputs": [],
      "source": [
        "import numpy as np\n",
        "import random\n",
        "import pandas as pd\n",
        "import matplotlib.pyplot as plt\n",
        "import seaborn as sns\n",
        "from sklearn.metrics import mean_squared_error,mean_absolute_error,  mean_absolute_percentage_error"
      ]
    },
    {
      "cell_type": "code",
      "source": [
        "!gdown #downloaded the data here"
      ],
      "metadata": {
        "id": "To-IrY_Bwv-L"
      },
      "execution_count": null,
      "outputs": []
    },
    {
      "cell_type": "code",
      "source": [
        "#Lets load the data\n",
        "df = pd.read_excel('/content/Test Project Ercot.xlsx',sheet_name='DataSet')"
      ],
      "metadata": {
        "id": "3_ai-I0jwwA3"
      },
      "execution_count": null,
      "outputs": []
    },
    {
      "cell_type": "code",
      "source": [
        "#Lets remove some redundant features\n",
        "df.drop('MARKETDAY',axis=1,inplace=True) #Already captured\n",
        "df.drop('MONTH',axis=1,inplace=True)     #Already captured\n",
        "df.drop('PEAKTYPE',axis=1,inplace=True)  #Empty\n",
        "df.drop('DATETIME',axis=1,inplace=True)  #Already captured\n",
        "df.drop('YEAR',axis=1,inplace=True)      #No point taking this as a feature\n",
        "\n",
        "df.dropna(axis=0,how='any',inplace=True) #Dropping rows with NA values"
      ],
      "metadata": {
        "id": "mC0A8o3EwwEc"
      },
      "execution_count": null,
      "outputs": []
    },
    {
      "cell_type": "code",
      "source": [
        "y_real=df[['HB_NORTH (RTLMP)']]\n",
        "y_ahead=df[['HB_NORTH (DALMP)']]\n",
        "X=df.drop(['HB_HOUSTON (RTLMP)','HB_NORTH (RTLMP)','HB_PAN (RTLMP)','HB_SOUTH (RTLMP)','HB_WEST (RTLMP)',\n",
        "           'HB_HOUSTON (DALMP)','HB_NORTH (DALMP)','HB_PAN (DALMP)','HB_SOUTH (DALMP)','HB_WEST (DALMP)'],axis=1)\n",
        "lst = ['WZ_West (RTLOAD)','WZ_Southern (RTLOAD)','WZ_SouthCentral (RTLOAD)',\n",
        "       'WZ_NorthCentral (RTLOAD)','WZ_North (RTLOAD)','WZ_Coast (RTLOAD)',\n",
        "       'WZ_ERCOT (RTLOAD)','WZ_East (RTLOAD)','WZ_FarWest (RTLOAD)',\n",
        "        'GR_COASTAL (WIND_RTI)','GR_ERCOT (WIND_RTI)','GR_NORTH (WIND_RTI)',\n",
        "        'GR_PANHANDLE (WIND_RTI)','GR_SOUTH (WIND_RTI)','GR_WEST (WIND_RTI)',\n",
        "        'ERCOT (GENERATION_SOLAR_RT)','ERCOT (AGG_DAM_ENERGY_SOLD)','ERCOT (AGG_DAM_ENERGY_BOUGHT)',\n",
        "        'ERCOT (HSL_DA)','ERCOT (HSL_CD)','ERCOT (PHYS_RESP_CAP)','ERCOT (RT_OR_PRADDER)',\n",
        "        'ERCOT (RT_ORD_PRADDER)']\n",
        "X_future = X.drop(lst,axis=1,inplace=False)\n",
        "past_list = list(X_future.columns)\n",
        "past_list.remove('day')\n",
        "past_list.remove('month')\n",
        "past_list.remove('HOURENDING')\n",
        "X_past = X.drop(past_list,axis=1)"
      ],
      "metadata": {
        "id": "VQofK0AZwwHN"
      },
      "execution_count": null,
      "outputs": []
    },
    {
      "cell_type": "code",
      "source": [
        "from sklearn.preprocessing import StandardScaler\n",
        "sc_y_DA,sc_y_real, sc_fut, sc_past = StandardScaler(), StandardScaler(), StandardScaler(), StandardScaler()\n",
        "X_future = pd.DataFrame(sc_fut.fit_transform(X_future),index=X_future.index,columns=X_future.columns)\n",
        "X_past = pd.DataFrame(sc_past.fit_transform(X_past),index=X_past.index,columns=X_past.columns)\n",
        "y_ahead = pd.DataFrame(sc_y_DA.fit_transform(y_ahead),index=y_ahead.index,columns=y_ahead.columns)\n",
        "y_real = pd.DataFrame(sc_y_real.fit_transform(y_real),index=y_real.index,columns=y_real.columns)"
      ],
      "metadata": {
        "id": "XweHpTFD0yhF"
      },
      "execution_count": null,
      "outputs": []
    },
    {
      "cell_type": "code",
      "source": [
        "X_future.shape"
      ],
      "metadata": {
        "colab": {
          "base_uri": "https://localhost:8080/"
        },
        "id": "cRM-nVcbuZde",
        "outputId": "23b0d99d-5f57-4104-8d34-ecb04eedd581"
      },
      "execution_count": null,
      "outputs": [
        {
          "output_type": "execute_result",
          "data": {
            "text/plain": [
              "(4218, 27)"
            ]
          },
          "metadata": {},
          "execution_count": 168
        }
      ]
    },
    {
      "cell_type": "markdown",
      "source": [
        "## Simple Features -Linear Regression"
      ],
      "metadata": {
        "id": "Lu3XVxCW0lh9"
      }
    },
    {
      "cell_type": "markdown",
      "source": [
        "### Utils"
      ],
      "metadata": {
        "id": "xSsT5hj7Wp7K"
      }
    },
    {
      "cell_type": "code",
      "source": [
        "#Lets do a simple naive baseline where we simply use the X_future to predict the DayAhead prices and nothing else\n",
        "\n",
        "#Some helper functions\n",
        "months=[10,11,12,1,2,3]\n",
        "months_scaled = X_future['month'].unique().tolist()\n",
        "\n",
        "months_name=['Oct','Nov','Dec','Jan','Feb','Mar']\n",
        "\n",
        "def evaluate(months, regressor, X, y, y_scaled=False,scaler=None, X_pca=None):\n",
        "    if y_scaled:\n",
        "        assert scaler is not None\n",
        "    X_=None\n",
        "        \n",
        "    MSE_train=[]\n",
        "    MSE_test=[]\n",
        "    MAE_train=[]\n",
        "    MAE_test=[]\n",
        "    \n",
        "    for month in months:\n",
        "        if X_ is not None:\n",
        "            X=X_\n",
        "        \n",
        "        ind_test = X.index[abs(X['month']-month)<=10e-3].tolist()\n",
        "        ind_train = X.index[abs(X['month']-month)>10e-3].tolist()\n",
        "        \n",
        "        if X_pca is not None:\n",
        "            X_=X\n",
        "            X=X_pca\n",
        "        \n",
        "        X_train, X_test, y_train, y_test = X.loc[ind_train], X.loc[ind_test], y.loc[ind_train], y.loc[ind_test]\n",
        "        regressor.fit(X_train,y_train)\n",
        "        \n",
        "        y_pred_train=regressor.predict(X_train)\n",
        "        y_pred=regressor.predict(X_test)\n",
        "        \n",
        "        \n",
        "        if y_scaled:\n",
        "            y_train=scaler.inverse_transform(y_train)\n",
        "            y_test = scaler.inverse_transform(y_test)\n",
        "            y_pred_train = scaler.inverse_transform(y_pred_train.reshape(-1,1))\n",
        "            y_pred = scaler.inverse_transform(y_pred.reshape(-1,1))\n",
        "            \n",
        "            \n",
        "        MSE_train.append(round(mean_squared_error(y_train,y_pred_train),2))\n",
        "        MAE_train.append(round(mean_absolute_error(y_train,y_pred_train),2))\n",
        "        MSE_test.append(round(mean_squared_error(y_test,y_pred),2))\n",
        "        MAE_test.append(round(mean_absolute_error(y_test,y_pred),2))\n",
        "        \n",
        "    plt.plot(months_name,MSE_train,label='MSE train')\n",
        "    plt.plot(months_name,MAE_train,label='MAE train')\n",
        "    plt.plot(months_name,MSE_test,label='MSE test')\n",
        "    plt.plot(months_name,MAE_test,label='MAE test')\n",
        "    plt.legend()\n",
        "    plt.show()\n",
        "    print('MSE_train',MSE_train, 'avg:', round(sum(MSE_train)/len(MSE_train),2))\n",
        "    print('MSE_test',MSE_test,'avg:', round(sum(MSE_test)/len(MSE_train),2))\n",
        "    print('MAE_train',MAE_train,'avg:', round(sum(MAE_train)/len(MSE_train),2))\n",
        "    print('MAE_test',MAE_test,'avg:', round(sum(MAE_test)/len(MSE_train),2))\n",
        "    "
      ],
      "metadata": {
        "id": "a73FksU90oww"
      },
      "execution_count": null,
      "outputs": []
    },
    {
      "cell_type": "markdown",
      "source": [
        "### Main"
      ],
      "metadata": {
        "id": "kypkEPEUWt0H"
      }
    },
    {
      "cell_type": "code",
      "source": [
        "from sklearn.linear_model import LinearRegression\n",
        "\n",
        "reg = LinearRegression()\n",
        "evaluate(months_scaled,reg,X_future,y_ahead,y_scaled=True,scaler=sc_y_DA)\n",
        "# Seems easier to predict than real time prices, MSE is not super high,\n",
        "# Hence targets are more stable"
      ],
      "metadata": {
        "colab": {
          "base_uri": "https://localhost:8080/",
          "height": 333
        },
        "id": "8p3adlBWAbdq",
        "outputId": "d748fae5-9808-412f-b988-049154d7e6bc"
      },
      "execution_count": null,
      "outputs": [
        {
          "output_type": "display_data",
          "data": {
            "text/plain": [
              "<Figure size 432x288 with 1 Axes>"
            ],
            "image/png": "[encoded data removed]"
          },
          "metadata": {
            "needs_background": "light"
          }
        },
        {
          "output_type": "stream",
          "name": "stdout",
          "text": [
            "MSE_train [188.83, 459.55, 459.71, 451.83, 381.77, 415.57] avg: 392.88\n",
            "MSE_test [1556.78, 124.1, 171.99, 200.99, 584.48, 324.4] avg: 493.79\n",
            "MAE_train [7.87, 10.04, 10.24, 9.99, 9.54, 9.06] avg: 9.46\n",
            "MAE_test [18.05, 7.73, 10.92, 11.05, 13.25, 9.86] avg: 11.81\n"
          ]
        }
      ]
    },
    {
      "cell_type": "markdown",
      "source": [
        "## Simple Features- Support Vector Regression"
      ],
      "metadata": {
        "id": "LOo0-AaNWxF_"
      }
    },
    {
      "cell_type": "code",
      "source": [
        "#Lets try to improve this baseline by using SVR- one of the better performing methods\n",
        "#for real time price prediction\n",
        "from sklearn import svm\n",
        "svr1= svm.SVR(kernel='rbf',degree=1,C=0.6,gamma='scale',epsilon=0.05)\n",
        "evaluate(months_scaled, svr1, X_future, y_ahead, y_scaled=True, scaler=sc_y_DA)\n",
        "#Definitely a bit of improvement"
      ],
      "metadata": {
        "colab": {
          "base_uri": "https://localhost:8080/",
          "height": 326
        },
        "id": "KdmGIObDQ6LC",
        "outputId": "dc20b4d5-4d48-4256-a25f-506355fee629"
      },
      "execution_count": null,
      "outputs": [
        {
          "output_type": "stream",
          "name": "stderr",
          "text": [
            "/usr/local/lib/python3.7/dist-packages/sklearn/utils/validation.py:993: DataConversionWarning: A column-vector y was passed when a 1d array was expected. Please change the shape of y to (n_samples, ), for example using ravel().\n",
            "  y = column_or_1d(y, warn=True)\n",
            "/usr/local/lib/python3.7/dist-packages/sklearn/utils/validation.py:993: DataConversionWarning: A column-vector y was passed when a 1d array was expected. Please change the shape of y to (n_samples, ), for example using ravel().\n",
            "  y = column_or_1d(y, warn=True)\n",
            "/usr/local/lib/python3.7/dist-packages/sklearn/utils/validation.py:993: DataConversionWarning: A column-vector y was passed when a 1d array was expected. Please change the shape of y to (n_samples, ), for example using ravel().\n",
            "  y = column_or_1d(y, warn=True)\n",
            "/usr/local/lib/python3.7/dist-packages/sklearn/utils/validation.py:993: DataConversionWarning: A column-vector y was passed when a 1d array was expected. Please change the shape of y to (n_samples, ), for example using ravel().\n",
            "  y = column_or_1d(y, warn=True)\n",
            "/usr/local/lib/python3.7/dist-packages/sklearn/utils/validation.py:993: DataConversionWarning: A column-vector y was passed when a 1d array was expected. Please change the shape of y to (n_samples, ), for example using ravel().\n",
            "  y = column_or_1d(y, warn=True)\n",
            "/usr/local/lib/python3.7/dist-packages/sklearn/utils/validation.py:993: DataConversionWarning: A column-vector y was passed when a 1d array was expected. Please change the shape of y to (n_samples, ), for example using ravel().\n",
            "  y = column_or_1d(y, warn=True)\n"
          ]
        },
        {
          "output_type": "display_data",
          "data": {
            "text/plain": [
              "<Figure size 432x288 with 1 Axes>"
            ],
            "image/png": "[encoded data removed]"
          },
          "metadata": {
            "needs_background": "light"
          }
        },
        {
          "output_type": "stream",
          "name": "stdout",
          "text": [
            "MSE_train [118.49, 329.88, 334.68, 327.98, 258.19, 300.64] avg: 278.31\n",
            "MSE_test [1490.25, 114.4, 93.19, 117.86, 676.67, 408.04] avg: 483.4\n",
            "MAE_train [3.73, 4.54, 4.8, 4.68, 4.22, 4.2] avg: 4.36\n",
            "MAE_test [12.06, 6.78, 8.1, 7.12, 9.34, 10.74] avg: 9.02\n"
          ]
        }
      ]
    },
    {
      "cell_type": "markdown",
      "source": [
        "## Simple Features- Neural Network w/ Data Augementation"
      ],
      "metadata": {
        "id": "Fq8nmCHsZLOF"
      }
    },
    {
      "cell_type": "markdown",
      "source": [
        "### Utils"
      ],
      "metadata": {
        "id": "trcFbj6NaMjR"
      }
    },
    {
      "cell_type": "code",
      "source": [
        "import torch\n",
        "import torch.nn as nn\n",
        "import torch.nn.functional as F\n",
        "from torch.utils.data.dataset import Dataset\n",
        "from torch.utils.data import DataLoader\n",
        "\n",
        "dev=torch.device(\"cuda:0\" if torch.cuda.is_available() else \"cpu\")\n",
        "months=[10,11,12,1,2,3]\n",
        "months_scaled = X_future['month'].unique().tolist()\n",
        "\n",
        "months_name=['Oct','Nov','Dec','Jan','Feb','Mar']\n",
        "target_months_name=['Jan','Feb','Mar']"
      ],
      "metadata": {
        "id": "ZgUjXtHFanAs"
      },
      "execution_count": null,
      "outputs": []
    },
    {
      "cell_type": "code",
      "source": [
        "#Modified helper functions\n",
        "\n",
        "\n",
        "def evaluateNN(months, X, y, y_scaled=False,scaler=None,aug=False,X_original=None,y_original=None,input_dim=27,do_return=False,backtest=False):\n",
        "    if y_scaled:\n",
        "        assert scaler is not None\n",
        "    if aug:\n",
        "        assert X_original is not None\n",
        "        assert y_original is not None\n",
        "        \n",
        "    MSE_train=[]\n",
        "    MSE_test=[]\n",
        "    MAE_train=[]\n",
        "    MAE_test=[]\n",
        "    \n",
        "    target_months = months[3:]\n",
        "\n",
        "    if backtest is False:\n",
        "        network = MyDNN(input_dim)\n",
        "        network=network.to(dev)\n",
        "        trainer = MyDNNTrain(network)\n",
        "\n",
        "        ind_test = X.index[X['month']<0].tolist()\n",
        "        ind_train = X.index[X['month']>0].tolist()\n",
        "        X_train, X_test, y_train, y_test = np.array(X.loc[ind_train]), np.array(X.loc[ind_test]), np.array(y.loc[ind_train]), np.array(y.loc[ind_test])\n",
        "        if aug:\n",
        "            ind_original_test = X_original.index[X_original['month']<0].tolist()\n",
        "            X_test = np.array(X_original.loc[ind_original_test])\n",
        "            y_test = np.array(y_original.loc[ind_original_test])\n",
        "        trainer.train(y_train,X_train)\n",
        "        with torch.no_grad():\n",
        "            y_pred_train=network.predict(X_train)\n",
        "            y_pred=network.predict(X_test)\n",
        "            \n",
        "            if y_scaled:\n",
        "                y_train=scaler.inverse_transform(y_train)\n",
        "                y_test = scaler.inverse_transform(y_test)\n",
        "                y_pred_train = scaler.inverse_transform(y_pred_train)\n",
        "                y_pred = scaler.inverse_transform(y_pred)\n",
        "\n",
        "        MSE_train.append(round(mean_squared_error(y_train,y_pred_train),2))\n",
        "        MAE_train.append(round(mean_absolute_error(y_train,y_pred_train),2))\n",
        "        MSE_test.append(round(mean_squared_error(y_test,y_pred),2))\n",
        "        MAE_test.append(round(mean_absolute_error(y_test,y_pred),2))\n",
        "\n",
        "\n",
        "    else:\n",
        "        y_pred_final=[]\n",
        "        for i,month in enumerate(target_months):\n",
        "            network = MyDNN(input_dim)\n",
        "            network=network.to(dev)\n",
        "            trainer = MyDNNTrain(network)\n",
        "\n",
        "            ind_test = X.index[(X['month']==month)].tolist()\n",
        "            ind_train = X.index[(X['month']<month) | (X['month']>=0)].tolist()\n",
        "        \n",
        "            X_train, X_test, y_train, y_test = np.array(X.loc[ind_train]), np.array(X.loc[ind_test]), np.array(y.loc[ind_train]), np.array(y.loc[ind_test])\n",
        "\n",
        "            if aug:\n",
        "                ind_original_test = X_original.index[(X_original['month']==month)].tolist()\n",
        "                X_test = np.array(X_original.loc[ind_original_test])\n",
        "                y_test = np.array(y_original.loc[ind_original_test])\n",
        "\n",
        "            trainer.train(y_train,X_train)\n",
        "                \n",
        "            with torch.no_grad():\n",
        "                y_pred_train=network.predict(X_train)\n",
        "                y_pred=network.predict(X_test)\n",
        "                    \n",
        "                    \n",
        "                if y_scaled:\n",
        "                    y_train=scaler.inverse_transform(y_train)\n",
        "                    y_test = scaler.inverse_transform(y_test)\n",
        "                    y_pred_train = scaler.inverse_transform(y_pred_train)\n",
        "                    y_pred = scaler.inverse_transform(y_pred)\n",
        "                        \n",
        "                        \n",
        "                MSE_train.append(round(mean_squared_error(y_train,y_pred_train),2))\n",
        "                MAE_train.append(round(mean_absolute_error(y_train,y_pred_train),2))\n",
        "                MSE_test.append(round(mean_squared_error(y_test,y_pred),2))\n",
        "                MAE_test.append(round(mean_absolute_error(y_test,y_pred),2))\n",
        "            \n",
        "            y_pred_final.append(y_pred)\n",
        "        \n",
        "    # plt.plot(months_name,MSE_train,label='MSE train')\n",
        "    # plt.plot(months_name,MAE_train,label='MAE train')\n",
        "    # plt.plot(months_name,MSE_test,label='MSE test')\n",
        "    # plt.plot(months_name,MAE_test,label='MAE test')\n",
        "    # plt.legend()\n",
        "    # plt.show()\n",
        "    print('MSE_train',MSE_train, 'avg:', round(sum(MSE_train)/len(MSE_train),2))\n",
        "    print('MSE_test',MSE_test,'avg:', round(sum(MSE_test)/len(MSE_train),2))\n",
        "    print('MAE_train',MAE_train,'avg:', round(sum(MAE_train)/len(MSE_train),2))\n",
        "    print('MAE_test',MAE_test,'avg:', round(sum(MAE_test)/len(MSE_train),2))\n",
        "\n",
        "    if do_return:\n",
        "        if backtest is False:\n",
        "            return y_pred\n",
        "        else:\n",
        "            return np.concatenate(y_pred_final,axis=0)\n",
        "    \n",
        "class MyDataset(Dataset):\n",
        "    def __init__(self, labels, features):\n",
        "        super(MyDataset, self).__init__()\n",
        "        self.labels = labels\n",
        "        self.features = features\n",
        "\n",
        "    def __len__(self):\n",
        "        return self.features.shape[0]\n",
        "\n",
        "    def __getitem__(self, idx):\n",
        "        feature = self.features[idx]\n",
        "        label = self.labels[idx]\n",
        "        return {'feature': feature, 'label': label}\n",
        "\n",
        "class MyDNN(nn.Module):\n",
        "    def __init__(self, input_dim):\n",
        "        super(MyDNN, self).__init__()\n",
        "        self.fc1 = nn.Linear(input_dim, 70)\n",
        "        self.fc2 = nn.Linear(70, 35)\n",
        "        self.fc3 = nn.Linear(35, 1)\n",
        "\n",
        "    def forward(self, x):\n",
        "        x = F.relu(self.fc1(x))\n",
        "        x = F.relu(self.fc2(x))\n",
        "        x = self.fc3(x)\n",
        "        return x\n",
        "\t\n",
        "    def predict(self, features):\n",
        "        self.eval()\t\n",
        "        features = torch.from_numpy(features).float().to(dev)\n",
        "        return self.forward(features).detach().to('cpu').numpy()\n",
        "\n",
        "class MyDNNTrain(object): \n",
        "    def __init__(self, network):\n",
        "        self.network = network\n",
        "        self.learning_rate = .0001\n",
        "        self.optimizer = torch.optim.Adam(self.network.parameters(), lr=self.learning_rate,weight_decay=1e-6)\n",
        "        self.criterion = nn.MSELoss()\n",
        "        self.num_epochs = 200\n",
        "        self.batchsize = 100\n",
        "        self.shuffle = True\n",
        "        self.dev=dev\n",
        "\n",
        "    def train(self, labels, features):\n",
        "        self.network.train()\n",
        "        dataset = MyDataset(labels, features)\n",
        "        loader = DataLoader(dataset, shuffle=self.shuffle, batch_size = self.batchsize)\n",
        "        for epoch in range(self.num_epochs):\n",
        "            self.train_epoch(loader, epoch)\n",
        "\n",
        "    def train_epoch(self, loader, epoch):\n",
        "        total_loss = 0.0\n",
        "        for i, data in enumerate(loader):\n",
        "            features = data['feature'].float().to(dev)\n",
        "            labels = data['label'].float().to(dev)\n",
        "            self.optimizer.zero_grad()\n",
        "            predictions = self.network(features)\n",
        "            loss = self.criterion(predictions, labels)\n",
        "            loss.backward()\n",
        "            total_loss += loss.item()\n",
        "            self.optimizer.step()\n",
        "        #print( 'Epoch',epoch,'loss', total_loss/i)"
      ],
      "metadata": {
        "id": "pMUU3DhCZQqe"
      },
      "execution_count": null,
      "outputs": []
    },
    {
      "cell_type": "markdown",
      "source": [
        "###Main"
      ],
      "metadata": {
        "id": "oPAETY5MaOx6"
      }
    },
    {
      "cell_type": "code",
      "source": [
        "Xnp = np.array(X_future)\n",
        "n = Xnp.shape[0]\n",
        "D=Xnp.shape[1]\n",
        "X_aug=np.ones((1,D))\n",
        "y_aug=np.ones(1)\n",
        "indexes=[]\n",
        "random.seed(0)\n",
        "for i in range(10000):\n",
        "    ind = random.randint(0,n)\n",
        "    indexes.append(ind)\n",
        "    y_aug=np.vstack((y_aug,y_ahead.iloc[ind]))\n",
        "    x = Xnp[ind,:]\n",
        "    x[:D-3]=x[:D-3]+np.random.normal(0,0.1,(D-3,))\n",
        "    X_aug=np.vstack((X_aug,x))\n",
        "X_aug=pd.DataFrame(X_aug[1:,:],columns=X_future.columns)\n",
        "y_aug=pd.DataFrame(y_aug[1:,:],columns=y_ahead.columns)"
      ],
      "metadata": {
        "id": "qLfywgQsZQoF"
      },
      "execution_count": null,
      "outputs": []
    },
    {
      "cell_type": "code",
      "source": [
        "# Concatenating new dataset with augmentations\n",
        "X_new=pd.concat([X_future,X_aug])\n",
        "y_new=pd.concat([y_ahead,y_aug])\n",
        "\n",
        "random.seed(0)\n",
        "\n",
        "# print('without regularization & backtesting:')\n",
        "# evaluateNN(months_scaled,X_future,y_ahead,y_scaled=True,scaler=sc_y_DA,aug=False,X_original=X_future,y_original=y_ahead,backtest=True)\n",
        "# print('without regularization & no backtesting:')\n",
        "# evaluateNN(months_scaled,X_future,y_ahead,y_scaled=True,scaler=sc_y_DA,aug=False,X_original=X_future,y_original=y_ahead,backtest=False)\n",
        "print('with regularization & backtesting:')\n",
        "out1=evaluateNN(months_scaled,X_new,y_new,y_scaled=True,scaler=sc_y_DA,aug=True,X_original=X_future,y_original=y_ahead,do_return= True,backtest=True)\n",
        "# print('with regularization & no backtesting:')\n",
        "# out2=evaluateNN(months_scaled,X_new,y_new,y_scaled=True,scaler=sc_y_DA,aug=True,X_original=X_future,y_original=y_ahead,do_return= True,backtest=False)"
      ],
      "metadata": {
        "colab": {
          "base_uri": "https://localhost:8080/"
        },
        "id": "M1kVbHtxZQfL",
        "outputId": "77e8da3f-91ea-452e-866c-485dcec810cb"
      },
      "execution_count": null,
      "outputs": [
        {
          "output_type": "stream",
          "name": "stdout",
          "text": [
            "with regularization & backtesting:\n",
            "MSE_train [22.98, 19.63, 16.62] avg: 19.74\n",
            "MSE_test [32.3, 51.86, 59.57] avg: 47.91\n",
            "MAE_train [3.24, 2.94, 2.83] avg: 3.0\n",
            "MAE_test [3.86, 4.56, 4.63] avg: 4.35\n"
          ]
        }
      ]
    }
  ]
}