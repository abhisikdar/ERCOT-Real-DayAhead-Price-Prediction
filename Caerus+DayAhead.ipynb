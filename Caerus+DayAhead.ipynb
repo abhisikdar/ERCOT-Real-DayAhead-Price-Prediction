{
  "nbformat": 4,
  "nbformat_minor": 0,
  "metadata": {
    "colab": {
      "name": "Caerus+DayAhead.ipynb",
      "provenance": [],
      "collapsed_sections": [
        "Lu3XVxCW0lh9",
        "LOo0-AaNWxF_",
        "Fq8nmCHsZLOF"
      ]
    },
    "kernelspec": {
      "name": "python3",
      "display_name": "Python 3"
    },
    "language_info": {
      "name": "python"
    }
  },
  "cells": [
    {
      "cell_type": "markdown",
      "source": [
        "## Data Processing"
      ],
      "metadata": {
        "id": "A1wE1AZxGxmA"
      }
    },
    {
      "cell_type": "code",
      "execution_count": null,
      "metadata": {
        "id": "DTpXY0OiwrEB"
      },
      "outputs": [],
      "source": [
        "!pip install pyyaml==5.4.1 >1.txt\n",
        "!pip install darts >1.txt\n",
        "!pip uninstall matplotlib >1.txt\n",
        "!pip install matplotlib==3.1.3>1.txt\n",
        "import numpy as np\n",
        "import randomy\n",
        "import pandas as pd\n",
        "import matplotlib.pyplot as plt\n",
        "import seaborn as sns\n",
        "from sklearn.metrics import mean_squared_error,mean_absolute_error,  mean_absolute_percentage_error"
      ]
    },
    {
      "cell_type": "code",
      "source": [
        "!gdown https://drive.google.com/uc?id=19PUxOIGx3H6BJsTVkmtjEQtZTmEgjZtz&export=download"
      ],
      "metadata": {
        "colab": {
          "base_uri": "https://localhost:8080/"
        },
        "id": "To-IrY_Bwv-L",
        "outputId": "a00fbc42-9c3e-4fc3-8156-8b47d0e3843f"
      },
      "execution_count": 2,
      "outputs": [
        {
          "output_type": "stream",
          "name": "stdout",
          "text": [
            "Downloading...\n",
            "From: https://drive.google.com/uc?id=19PUxOIGx3H6BJsTVkmtjEQtZTmEgjZtz\n",
            "To: /content/Test Project Ercot.xlsx\n",
            "\r  0% 0.00/2.51M [00:00<?, ?B/s]\r100% 2.51M/2.51M [00:00<00:00, 91.9MB/s]\n"
          ]
        }
      ]
    },
    {
      "cell_type": "code",
      "source": [
        "#Lets load the data\n",
        "df = pd.read_excel('/content/Test Project Ercot.xlsx',sheet_name='DataSet')"
      ],
      "metadata": {
        "id": "3_ai-I0jwwA3"
      },
      "execution_count": 3,
      "outputs": []
    },
    {
      "cell_type": "code",
      "source": [
        "#Lets remove some redundant features\n",
        "df.drop('MARKETDAY',axis=1,inplace=True) #Already captured\n",
        "df.drop('MONTH',axis=1,inplace=True)     #Already captured\n",
        "df.drop('PEAKTYPE',axis=1,inplace=True)  #Empty\n",
        "df.drop('DATETIME',axis=1,inplace=True)  #Already captured\n",
        "df.drop('YEAR',axis=1,inplace=True)      #No point taking this as a feature\n",
        "\n",
        "df.dropna(axis=0,how='any',inplace=True) #Dropping rows with NA values"
      ],
      "metadata": {
        "id": "mC0A8o3EwwEc"
      },
      "execution_count": 4,
      "outputs": []
    },
    {
      "cell_type": "code",
      "source": [
        "y_real=df[['HB_NORTH (RTLMP)']]\n",
        "y_ahead=df[['HB_NORTH (DALMP)']]\n",
        "X=df.drop(['HB_HOUSTON (RTLMP)','HB_NORTH (RTLMP)','HB_PAN (RTLMP)','HB_SOUTH (RTLMP)','HB_WEST (RTLMP)',\n",
        "           'HB_HOUSTON (DALMP)','HB_NORTH (DALMP)','HB_PAN (DALMP)','HB_SOUTH (DALMP)','HB_WEST (DALMP)'],axis=1)\n",
        "lst = ['WZ_West (RTLOAD)','WZ_Southern (RTLOAD)','WZ_SouthCentral (RTLOAD)',\n",
        "       'WZ_NorthCentral (RTLOAD)','WZ_North (RTLOAD)','WZ_Coast (RTLOAD)',\n",
        "       'WZ_ERCOT (RTLOAD)','WZ_East (RTLOAD)','WZ_FarWest (RTLOAD)',\n",
        "        'GR_COASTAL (WIND_RTI)','GR_ERCOT (WIND_RTI)','GR_NORTH (WIND_RTI)',\n",
        "        'GR_PANHANDLE (WIND_RTI)','GR_SOUTH (WIND_RTI)','GR_WEST (WIND_RTI)',\n",
        "        'ERCOT (GENERATION_SOLAR_RT)','ERCOT (AGG_DAM_ENERGY_SOLD)','ERCOT (AGG_DAM_ENERGY_BOUGHT)',\n",
        "        'ERCOT (HSL_DA)','ERCOT (HSL_CD)','ERCOT (PHYS_RESP_CAP)','ERCOT (RT_OR_PRADDER)',\n",
        "        'ERCOT (RT_ORD_PRADDER)']\n",
        "X_future = X.drop(lst,axis=1,inplace=False)\n",
        "past_list = list(X_future.columns)\n",
        "past_list.remove('day')\n",
        "past_list.remove('month')\n",
        "past_list.remove('HOURENDING')\n",
        "X_past = X.drop(past_list,axis=1)"
      ],
      "metadata": {
        "id": "VQofK0AZwwHN"
      },
      "execution_count": 5,
      "outputs": []
    },
    {
      "cell_type": "code",
      "source": [
        "from sklearn.preprocessing import StandardScaler\n",
        "sc_y_DA,sc_y_real, sc_fut, sc_past = StandardScaler(), StandardScaler(), StandardScaler(), StandardScaler()\n",
        "X_future = pd.DataFrame(sc_fut.fit_transform(X_future),index=X_future.index,columns=X_future.columns)\n",
        "X_past = pd.DataFrame(sc_past.fit_transform(X_past),index=X_past.index,columns=X_past.columns)\n",
        "y_ahead = pd.DataFrame(sc_y_DA.fit_transform(y_ahead),index=y_ahead.index,columns=y_ahead.columns)\n",
        "y_real = pd.DataFrame(sc_y_real.fit_transform(y_real),index=y_real.index,columns=y_real.columns)"
      ],
      "metadata": {
        "id": "XweHpTFD0yhF"
      },
      "execution_count": 6,
      "outputs": []
    },
    {
      "cell_type": "markdown",
      "source": [
        "## Simple Features -Linear Regression"
      ],
      "metadata": {
        "id": "Lu3XVxCW0lh9"
      }
    },
    {
      "cell_type": "markdown",
      "source": [
        "### Utils"
      ],
      "metadata": {
        "id": "xSsT5hj7Wp7K"
      }
    },
    {
      "cell_type": "code",
      "source": [
        "#Lets do a simple naive baseline where we simply use the X_future to predict the DayAhead prices and nothing else\n",
        "\n",
        "#Some helper functions\n",
        "months=[10,11,12,1,2,3]\n",
        "months_scaled = X_future['month'].unique().tolist()\n",
        "\n",
        "months_name=['Oct','Nov','Dec','Jan','Feb','Mar']\n",
        "\n",
        "def evaluate(months, regressor, X, y, y_scaled=False,scaler=None, X_pca=None):\n",
        "    if y_scaled:\n",
        "        assert scaler is not None\n",
        "    X_=None\n",
        "        \n",
        "    MSE_train=[]\n",
        "    MSE_test=[]\n",
        "    MAE_train=[]\n",
        "    MAE_test=[]\n",
        "    \n",
        "    for month in months:\n",
        "        if X_ is not None:\n",
        "            X=X_\n",
        "        \n",
        "        ind_test = X.index[abs(X['month']-month)<=10e-3].tolist()\n",
        "        ind_train = X.index[abs(X['month']-month)>10e-3].tolist()\n",
        "        \n",
        "        if X_pca is not None:\n",
        "            X_=X\n",
        "            X=X_pca\n",
        "        \n",
        "        X_train, X_test, y_train, y_test = X.loc[ind_train], X.loc[ind_test], y.loc[ind_train], y.loc[ind_test]\n",
        "        regressor.fit(X_train,y_train)\n",
        "        \n",
        "        y_pred_train=regressor.predict(X_train)\n",
        "        y_pred=regressor.predict(X_test)\n",
        "        \n",
        "        \n",
        "        if y_scaled:\n",
        "            y_train=scaler.inverse_transform(y_train)\n",
        "            y_test = scaler.inverse_transform(y_test)\n",
        "            y_pred_train = scaler.inverse_transform(y_pred_train.reshape(-1,1))\n",
        "            y_pred = scaler.inverse_transform(y_pred.reshape(-1,1))\n",
        "            \n",
        "            \n",
        "        MSE_train.append(round(mean_squared_error(y_train,y_pred_train),2))\n",
        "        MAE_train.append(round(mean_absolute_error(y_train,y_pred_train),2))\n",
        "        MSE_test.append(round(mean_squared_error(y_test,y_pred),2))\n",
        "        MAE_test.append(round(mean_absolute_error(y_test,y_pred),2))\n",
        "        \n",
        "    plt.plot(months_name,MSE_train,label='MSE train')\n",
        "    plt.plot(months_name,MAE_train,label='MAE train')\n",
        "    plt.plot(months_name,MSE_test,label='MSE test')\n",
        "    plt.plot(months_name,MAE_test,label='MAE test')\n",
        "    plt.legend()\n",
        "    plt.show()\n",
        "    print('MSE_train',MSE_train, 'avg:', round(sum(MSE_train)/len(MSE_train),2))\n",
        "    print('MSE_test',MSE_test,'avg:', round(sum(MSE_test)/len(MSE_train),2))\n",
        "    print('MAE_train',MAE_train,'avg:', round(sum(MAE_train)/len(MSE_train),2))\n",
        "    print('MAE_test',MAE_test,'avg:', round(sum(MAE_test)/len(MSE_train),2))\n",
        "    "
      ],
      "metadata": {
        "id": "a73FksU90oww"
      },
      "execution_count": null,
      "outputs": []
    },
    {
      "cell_type": "markdown",
      "source": [
        "### Main"
      ],
      "metadata": {
        "id": "kypkEPEUWt0H"
      }
    },
    {
      "cell_type": "code",
      "source": [
        "from sklearn.linear_model import LinearRegression\n",
        "\n",
        "reg = LinearRegression()\n",
        "evaluate(months_scaled,reg,X_future,y_ahead,y_scaled=True,scaler=sc_y_DA)\n",
        "# Seems easier to predict than real time prices, MSE is not super high,\n",
        "# Hence targets are more stable"
      ],
      "metadata": {
        "colab": {
          "base_uri": "https://localhost:8080/",
          "height": 333
        },
        "id": "8p3adlBWAbdq",
        "outputId": "d748fae5-9808-412f-b988-049154d7e6bc"
      },
      "execution_count": null,
      "outputs": [
        {
          "output_type": "display_data",
          "data": {
            "text/plain": [
              "<Figure size 432x288 with 1 Axes>"
            ],
            "image/png": "[encoded data removed]"
          },
          "metadata": {
            "needs_background": "light"
          }
        },
        {
          "output_type": "stream",
          "name": "stdout",
          "text": [
            "MSE_train [188.83, 459.55, 459.71, 451.83, 381.77, 415.57] avg: 392.88\n",
            "MSE_test [1556.78, 124.1, 171.99, 200.99, 584.48, 324.4] avg: 493.79\n",
            "MAE_train [7.87, 10.04, 10.24, 9.99, 9.54, 9.06] avg: 9.46\n",
            "MAE_test [18.05, 7.73, 10.92, 11.05, 13.25, 9.86] avg: 11.81\n"
          ]
        }
      ]
    },
    {
      "cell_type": "markdown",
      "source": [
        "## Simple Features- Support Vector Regression"
      ],
      "metadata": {
        "id": "LOo0-AaNWxF_"
      }
    },
    {
      "cell_type": "code",
      "source": [
        "#Lets try to improve this baseline by using SVR- one of the better performing methods\n",
        "#for real time price prediction\n",
        "from sklearn import svm\n",
        "svr1= svm.SVR(kernel='rbf',degree=1,C=0.6,gamma='scale',epsilon=0.05)\n",
        "evaluate(months_scaled, svr1, X_future, y_ahead, y_scaled=True, scaler=sc_y_DA)\n",
        "#Definitely a bit of improvement"
      ],
      "metadata": {
        "colab": {
          "base_uri": "https://localhost:8080/",
          "height": 326
        },
        "id": "KdmGIObDQ6LC",
        "outputId": "dc20b4d5-4d48-4256-a25f-506355fee629"
      },
      "execution_count": null,
      "outputs": [
        {
          "output_type": "stream",
          "name": "stderr",
          "text": [
            "/usr/local/lib/python3.7/dist-packages/sklearn/utils/validation.py:993: DataConversionWarning: A column-vector y was passed when a 1d array was expected. Please change the shape of y to (n_samples, ), for example using ravel().\n",
            "  y = column_or_1d(y, warn=True)\n",
            "/usr/local/lib/python3.7/dist-packages/sklearn/utils/validation.py:993: DataConversionWarning: A column-vector y was passed when a 1d array was expected. Please change the shape of y to (n_samples, ), for example using ravel().\n",
            "  y = column_or_1d(y, warn=True)\n",
            "/usr/local/lib/python3.7/dist-packages/sklearn/utils/validation.py:993: DataConversionWarning: A column-vector y was passed when a 1d array was expected. Please change the shape of y to (n_samples, ), for example using ravel().\n",
            "  y = column_or_1d(y, warn=True)\n",
            "/usr/local/lib/python3.7/dist-packages/sklearn/utils/validation.py:993: DataConversionWarning: A column-vector y was passed when a 1d array was expected. Please change the shape of y to (n_samples, ), for example using ravel().\n",
            "  y = column_or_1d(y, warn=True)\n",
            "/usr/local/lib/python3.7/dist-packages/sklearn/utils/validation.py:993: DataConversionWarning: A column-vector y was passed when a 1d array was expected. Please change the shape of y to (n_samples, ), for example using ravel().\n",
            "  y = column_or_1d(y, warn=True)\n",
            "/usr/local/lib/python3.7/dist-packages/sklearn/utils/validation.py:993: DataConversionWarning: A column-vector y was passed when a 1d array was expected. Please change the shape of y to (n_samples, ), for example using ravel().\n",
            "  y = column_or_1d(y, warn=True)\n"
          ]
        },
        {
          "output_type": "display_data",
          "data": {
            "text/plain": [
              "<Figure size 432x288 with 1 Axes>"
            ],
            "image/png": "[encoded data removed]"
          },
          "metadata": {
            "needs_background": "light"
          }
        },
        {
          "output_type": "stream",
          "name": "stdout",
          "text": [
            "MSE_train [118.49, 329.88, 334.68, 327.98, 258.19, 300.64] avg: 278.31\n",
            "MSE_test [1490.25, 114.4, 93.19, 117.86, 676.67, 408.04] avg: 483.4\n",
            "MAE_train [3.73, 4.54, 4.8, 4.68, 4.22, 4.2] avg: 4.36\n",
            "MAE_test [12.06, 6.78, 8.1, 7.12, 9.34, 10.74] avg: 9.02\n"
          ]
        }
      ]
    },
    {
      "cell_type": "markdown",
      "source": [
        "## Simple Features- Neural Network w/ Data Augementation"
      ],
      "metadata": {
        "id": "Fq8nmCHsZLOF"
      }
    },
    {
      "cell_type": "markdown",
      "source": [
        "### Utils"
      ],
      "metadata": {
        "id": "trcFbj6NaMjR"
      }
    },
    {
      "cell_type": "code",
      "source": [
        "import torch\n",
        "import torch.nn as nn\n",
        "import torch.nn.functional as F\n",
        "from torch.utils.data.dataset import Dataset\n",
        "from torch.utils.data import DataLoader\n",
        "\n",
        "dev=torch.device(\"cuda:0\" if torch.cuda.is_available() else \"cpu\")"
      ],
      "metadata": {
        "id": "ZgUjXtHFanAs"
      },
      "execution_count": null,
      "outputs": []
    },
    {
      "cell_type": "code",
      "source": [
        "#Modified helper functions\n",
        "months=[10,11,12,1,2,3]\n",
        "months_scaled = X_future['month'].unique().tolist()\n",
        "\n",
        "months_name=['Oct','Nov','Dec','Jan','Feb','Mar']\n",
        "\n",
        "def evaluateNN(months, X, y, y_scaled=False,scaler=None,aug=False,X_original=None,y_original=None,input_dim=27):\n",
        "    if y_scaled:\n",
        "        assert scaler is not None\n",
        "    if aug:\n",
        "        assert X_original is not None\n",
        "        assert y_original is not None\n",
        "        \n",
        "    MSE_train=[]\n",
        "    MSE_test=[]\n",
        "    MAE_train=[]\n",
        "    MAE_test=[]\n",
        "    \n",
        "    for month in months:\n",
        "        network = MyDNN(input_dim)\n",
        "        network=network.to(dev)\n",
        "        trainer = MyDNNTrain(network)\n",
        "        \n",
        "        \n",
        "        ind_test = X.index[abs(X['month']-month)<=10e-3].tolist()\n",
        "        ind_train = X.index[abs(X['month']-month)>10e-3].tolist()\n",
        " \n",
        "        X_train, X_test, y_train, y_test = np.array(X.loc[ind_train]), np.array(X.loc[ind_test]), np.array(y.loc[ind_train]), np.array(y.loc[ind_test])\n",
        "\n",
        "        if aug:\n",
        "            ind_original_test = X_original.index[abs(X_original['month']-month)<=10e-3].tolist()\n",
        "            X_test = np.array(X_original.loc[ind_original_test])\n",
        "            y_test = np.array(y_original.loc[ind_original_test])\n",
        "\n",
        "        trainer.train(y_train,X_train)\n",
        "        \n",
        "        with torch.no_grad():\n",
        "            y_pred_train=network.predict(X_train)\n",
        "            y_pred=network.predict(X_test)\n",
        "            \n",
        "            \n",
        "            if y_scaled:\n",
        "                y_train=scaler.inverse_transform(y_train)\n",
        "                y_test = scaler.inverse_transform(y_test)\n",
        "                y_pred_train = scaler.inverse_transform(y_pred_train)\n",
        "                y_pred = scaler.inverse_transform(y_pred)\n",
        "                \n",
        "                \n",
        "            MSE_train.append(round(mean_squared_error(y_train,y_pred_train),2))\n",
        "            MAE_train.append(round(mean_absolute_error(y_train,y_pred_train),2))\n",
        "            MSE_test.append(round(mean_squared_error(y_test,y_pred),2))\n",
        "            MAE_test.append(round(mean_absolute_error(y_test,y_pred),2))\n",
        "        \n",
        "    plt.plot(months_name,MSE_train,label='MSE train')\n",
        "    plt.plot(months_name,MAE_train,label='MAE train')\n",
        "    plt.plot(months_name,MSE_test,label='MSE test')\n",
        "    plt.plot(months_name,MAE_test,label='MAE test')\n",
        "    plt.legend()\n",
        "    plt.show()\n",
        "    print('MSE_train',MSE_train, 'avg:', round(sum(MSE_train)/len(MSE_train),2))\n",
        "    print('MSE_test',MSE_test,'avg:', round(sum(MSE_test)/len(MSE_train),2))\n",
        "    print('MAE_train',MAE_train,'avg:', round(sum(MAE_train)/len(MSE_train),2))\n",
        "    print('MAE_test',MAE_test,'avg:', round(sum(MAE_test)/len(MSE_train),2))\n",
        "    \n",
        "class MyDataset(Dataset):\n",
        "    def __init__(self, labels, features):\n",
        "        super(MyDataset, self).__init__()\n",
        "        self.labels = labels\n",
        "        self.features = features\n",
        "\n",
        "    def __len__(self):\n",
        "        return self.features.shape[0]\n",
        "\n",
        "    def __getitem__(self, idx):\n",
        "        feature = self.features[idx]\n",
        "        label = self.labels[idx]\n",
        "        return {'feature': feature, 'label': label}\n",
        "\n",
        "class MyDNN(nn.Module):\n",
        "    def __init__(self, input_dim):\n",
        "        super(MyDNN, self).__init__()\n",
        "        self.fc1 = nn.Linear(input_dim, 70)\n",
        "        self.fc2 = nn.Linear(70, 35)\n",
        "        self.fc3 = nn.Linear(35, 1)\n",
        "\n",
        "    def forward(self, x):\n",
        "        x = F.relu(self.fc1(x))\n",
        "        x = F.relu(self.fc2(x))\n",
        "        x = self.fc3(x)\n",
        "        return x\n",
        "\t\n",
        "    def predict(self, features):\n",
        "        self.eval()\t\n",
        "        features = torch.from_numpy(features).float().to(dev)\n",
        "        return self.forward(features).detach().to('cpu').numpy()\n",
        "\n",
        "class MyDNNTrain(object): \n",
        "    def __init__(self, network):\n",
        "        self.network = network\n",
        "        self.learning_rate = .0001\n",
        "        self.optimizer = torch.optim.Adam(self.network.parameters(), lr=self.learning_rate,weight_decay=1e-6)\n",
        "        self.criterion = nn.MSELoss()\n",
        "        self.num_epochs = 200\n",
        "        self.batchsize = 100\n",
        "        self.shuffle = True\n",
        "        self.dev=dev\n",
        "\n",
        "    def train(self, labels, features):\n",
        "        self.network.train()\n",
        "        dataset = MyDataset(labels, features)\n",
        "        loader = DataLoader(dataset, shuffle=self.shuffle, batch_size = self.batchsize)\n",
        "        for epoch in range(self.num_epochs):\n",
        "            self.train_epoch(loader, epoch)\n",
        "\n",
        "    def train_epoch(self, loader, epoch):\n",
        "        total_loss = 0.0\n",
        "        for i, data in enumerate(loader):\n",
        "            features = data['feature'].float().to(dev)\n",
        "            labels = data['label'].float().to(dev)\n",
        "            self.optimizer.zero_grad()\n",
        "            predictions = self.network(features)\n",
        "            loss = self.criterion(predictions, labels)\n",
        "            loss.backward()\n",
        "            total_loss += loss.item()\n",
        "            self.optimizer.step()\n",
        "        #print( 'Epoch',epoch,'loss', total_loss/i)"
      ],
      "metadata": {
        "id": "pMUU3DhCZQqe"
      },
      "execution_count": null,
      "outputs": []
    },
    {
      "cell_type": "markdown",
      "source": [
        "###Main"
      ],
      "metadata": {
        "id": "oPAETY5MaOx6"
      }
    },
    {
      "cell_type": "code",
      "source": [
        "Xnp = np.array(X_future)\n",
        "n = Xnp.shape[0]\n",
        "D=Xnp.shape[1]\n",
        "X_aug=np.ones((1,D))\n",
        "y_aug=np.ones(1)\n",
        "indexes=[]\n",
        "random.seed(0)\n",
        "for i in range(10000):\n",
        "    ind = random.randint(0,n)\n",
        "    indexes.append(ind)\n",
        "    y_aug=np.vstack((y_aug,y_ahead.iloc[ind]))\n",
        "    x = Xnp[ind,:]\n",
        "    x[:D-3]=x[:D-3]+np.random.normal(0,0.1,(D-3,))\n",
        "    X_aug=np.vstack((X_aug,x))\n",
        "X_aug=pd.DataFrame(X_aug[1:,:],columns=X_future.columns)\n",
        "y_aug=pd.DataFrame(y_aug[1:,:],columns=y_ahead.columns)"
      ],
      "metadata": {
        "id": "qLfywgQsZQoF"
      },
      "execution_count": null,
      "outputs": []
    },
    {
      "cell_type": "code",
      "source": [
        "# Concatenating new dataset with augmentations\n",
        "X_new=pd.concat([X_future,X_aug])\n",
        "y_new=pd.concat([y_ahead,y_aug])\n",
        "\n",
        "evaluateNN(months_scaled,X_new,y_new,y_scaled=True,scaler=sc_y_DA,aug=True,X_original=X_future,y_original=y_ahead)\n",
        "#We are not at-par with our results from real-time price analysis"
      ],
      "metadata": {
        "colab": {
          "base_uri": "https://localhost:8080/",
          "height": 333
        },
        "id": "M1kVbHtxZQfL",
        "outputId": "6a4be526-c34d-4716-eb15-e5225889c8d6"
      },
      "execution_count": null,
      "outputs": [
        {
          "output_type": "display_data",
          "data": {
            "text/plain": [
              "<Figure size 432x288 with 1 Axes>"
            ],
            "image/png": "[encoded data removed]"
          },
          "metadata": {
            "needs_background": "light"
          }
        },
        {
          "output_type": "stream",
          "name": "stdout",
          "text": [
            "MSE_train [16.14, 18.89, 22.1, 20.79, 20.07, 20.0] avg: 19.67\n",
            "MSE_test [64.03, 38.03, 20.19, 26.83, 52.53, 55.58] avg: 42.86\n",
            "MAE_train [2.75, 2.98, 3.25, 3.14, 3.04, 3.06] avg: 3.04\n",
            "MAE_test [4.53, 4.15, 3.23, 3.65, 4.83, 4.74] avg: 4.19\n"
          ]
        }
      ]
    },
    {
      "cell_type": "markdown",
      "source": [
        "## Using Past and Future Covariates"
      ],
      "metadata": {
        "id": "bwq7z4x4Gig1"
      }
    },
    {
      "cell_type": "code",
      "source": [
        "from darts import TimeSeries\n",
        "from darts.models.forecasting.linear_regression_model import LinearRegressionModel\n",
        "from darts.models.forecasting.random_forest import RandomForest"
      ],
      "metadata": {
        "id": "4EYVd0LnXnxd"
      },
      "execution_count": 148,
      "outputs": []
    },
    {
      "cell_type": "code",
      "source": [
        "#Modified helper functions for Time Series\n",
        "months=[10,11,12,1,2,3]\n",
        "months_scaled = X_future['month'].unique().tolist()\n",
        "\n",
        "months_name=['Oct','Nov','Dec','Jan','Feb','Mar']\n",
        "\n",
        "def evaluateTS(months,X_nts, X_past,X_future, y, y_scaled=False,scaler=None):\n",
        "    months =months[:-1]\n",
        "    \n",
        "    if y_scaled:\n",
        "        assert scaler is not None\n",
        "    \n",
        "    month_start=0\n",
        "        \n",
        "    MSE_train=[]\n",
        "    MSE_test=[]\n",
        "    MAE_train=[]\n",
        "    MAE_test=[]\n",
        "    \n",
        "    for month in months:\n",
        "        network = RandomForest(lags=24,lags_past_covariates=[i for i in range(-24,0)],lags_future_covariates=[i for i in range(0,25)],max_depth=10,n_estimators=100)\n",
        "        \n",
        "        num_days_in_month = len(X_nts.index[abs(X_nts['month']-month)<=10e-3].tolist())\n",
        "        month_start += num_days_in_month\n",
        "    \n",
        "        X_train, y_train, X_test, y_test = X_past[:month_start], y[:month_start], X_past[month_start:],y[month_start:]\n",
        "        \n",
        "        network.fit(series=y_train,past_covariates=X_train,future_covariates=X_future)\n",
        "        \n",
        "        y_pred=network.predict(n=4218-month_start-25,series=y[:month_start],past_covariates=X_past,future_covariates=X_future).pd_dataframe()\n",
        "       \n",
        "        y_test = y_test.pd_dataframe()[:4218-month_start-25]\n",
        "        \n",
        "        if y_scaled:\n",
        "            y_test = scaler.inverse_transform(y_test)\n",
        "            y_pred = scaler.inverse_transform(y_pred)\n",
        "                \n",
        "\n",
        "        MSE_test.append(round(mean_squared_error(y_test,y_pred),2))\n",
        "        MAE_test.append(round(mean_absolute_error(y_test,y_pred),2))\n",
        "        print('yo')\n",
        "\n",
        "        \n",
        "    plt.plot(months_name[:-1],MSE_test,label='MSE test')\n",
        "    plt.plot(months_name[:-1],MAE_test,label='MAE test')\n",
        "    plt.legend()\n",
        "    plt.show()\n",
        "    print('MSE_test',MSE_test,'avg:', round(sum(MSE_test)/len(MSE_test),2))\n",
        "    print('MAE_test',MAE_test,'avg:', round(sum(MAE_test)/len(MAE_test),2))"
      ],
      "metadata": {
        "id": "5B6ZaWP9X3yF"
      },
      "execution_count": 159,
      "outputs": []
    },
    {
      "cell_type": "code",
      "source": [
        "Xp_ts,Xf_ts, y_ts = X_past.copy(),X_future.copy(), y_ahead.copy()\n",
        "Xp_ts['time_col']= range(1, len(Xp_ts) + 1)\n",
        "Xf_ts['time_col']= range(1, len(Xf_ts) + 1)\n",
        "y_ts['time_col']= range(1, len(y_real) + 1)\n",
        "XP_TS = TimeSeries.from_dataframe(Xp_ts,time_col='time_col')\n",
        "XF_TS = TimeSeries.from_dataframe(Xf_ts,time_col='time_col')\n",
        "y_TS = TimeSeries.from_dataframe(y_ts,time_col='time_col')\n",
        "\n",
        "evaluateTS(months,X,XP_TS,XF_TS,y_TS,y_scaled=True,scaler=sc_y_DA)\n",
        "#This section needs much more work. Time series modelling will require (1) GPU access\n",
        "# and (2) much more time- training code needs to be written ab initio to incorporate\n",
        "# augmented data- this is needed to prevent overfitting which is common in large models"
      ],
      "metadata": {
        "colab": {
          "base_uri": "https://localhost:8080/",
          "height": 315
        },
        "id": "Y9lUlNYXZ_Lq",
        "outputId": "1e874fb1-8e0c-4d3f-d64e-9ee25c4cf603"
      },
      "execution_count": 160,
      "outputs": [
        {
          "output_type": "stream",
          "name": "stdout",
          "text": [
            "yo\n"
          ]
        },
        {
          "output_type": "display_data",
          "data": {
            "text/plain": [
              "<Figure size 432x288 with 1 Axes>"
            ],
            "image/png": "[encoded data removed]"
          },
          "metadata": {
            "needs_background": "light"
          }
        },
        {
          "output_type": "stream",
          "name": "stdout",
          "text": [
            "MSE_test [958.63, 1577.64, 1492.75, 1244.67, 1011.48] avg: 1257.03\n",
            "MAE_test [22.83, 31.3, 31.19, 26.19, 24.01] avg: 27.1\n"
          ]
        }
      ]
    }
  ]
}